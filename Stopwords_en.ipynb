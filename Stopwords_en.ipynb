{
  "nbformat": 4,
  "nbformat_minor": 0,
  "metadata": {
    "colab": {
      "provenance": []
    },
    "kernelspec": {
      "name": "python3",
      "display_name": "Python 3"
    },
    "language_info": {
      "name": "python"
    }
  },
  "cells": [
    {
      "cell_type": "markdown",
      "source": [
        "**Stop words are commonly used in Text Mining and Natural Language Processing (NLP) to eliminate words that are so widely used that they carry very little useful information.**"
      ],
      "metadata": {
        "id": "UW79YV48f4jU"
      }
    },
    {
      "cell_type": "code",
      "execution_count": null,
      "metadata": {
        "id": "XzC3U6PDqjZp"
      },
      "outputs": [],
      "source": [
        "pip install wikipedia stop-words"
      ]
    },
    {
      "cell_type": "code",
      "source": [
        "import wikipedia\n",
        "from collections import Counter\n",
        "from stop_words import get_stop_words"
      ],
      "metadata": {
        "id": "0QmcguPSqlCz"
      },
      "execution_count": null,
      "outputs": []
    },
    {
      "cell_type": "code",
      "source": [
        "text=wikipedia.summary(\"New York Stadium\")"
      ],
      "metadata": {
        "id": "bSW5Ali3q4Nx"
      },
      "execution_count": null,
      "outputs": []
    },
    {
      "cell_type": "code",
      "source": [
        "word_list = text.split(' ')"
      ],
      "metadata": {
        "id": "YODJyWZxtbhm"
      },
      "execution_count": null,
      "outputs": []
    },
    {
      "cell_type": "code",
      "source": [
        "word_counts = Counter(word_list)"
      ],
      "metadata": {
        "id": "DUxrZV4CBu9g"
      },
      "execution_count": null,
      "outputs": []
    },
    {
      "cell_type": "code",
      "source": [
        "word_counts=dict(sorted(word_counts.items(),key=lambda item: item[1] ))\n",
        "len(word_counts)"
      ],
      "metadata": {
        "id": "_oa_gMLLO1sv"
      },
      "execution_count": null,
      "outputs": []
    },
    {
      "cell_type": "markdown",
      "source": [
        "There is no exact or complete list of stop words in any language because it depends on our content and context. For example, for a text about the weather, numbers are important because they represent air temperature, but the same numbers might not be so important for texts about music or law."
      ],
      "metadata": {
        "id": "CbGkJsW-eGkd"
      }
    },
    {
      "cell_type": "code",
      "source": [
        "stop_words = get_stop_words('en')"
      ],
      "metadata": {
        "id": "O2eqmDVJB129"
      },
      "execution_count": null,
      "outputs": []
    },
    {
      "cell_type": "code",
      "source": [
        "for key in stop_words:\n",
        "    if key in word_counts:\n",
        "        del word_counts[key]\n",
        "len(word_counts)"
      ],
      "metadata": {
        "id": "8GWm-MfIZKI_"
      },
      "execution_count": null,
      "outputs": []
    },
    {
      "cell_type": "code",
      "source": [
        "words_without_stopwords1 = []\n",
        "for word in word_counts:\n",
        "    if word not in stop_words:\n",
        "        words_without_stopwords1.append(word)\n",
        "len(words_without_stopwords1)"
      ],
      "metadata": {
        "id": "3GgPLmt6bTKC"
      },
      "execution_count": null,
      "outputs": []
    },
    {
      "cell_type": "code",
      "source": [
        "words_without_stopwords2 = [ word for word in word_counts if word not in stop_words ]\n",
        "len(words_without_stopwords2)"
      ],
      "metadata": {
        "id": "E62D3qbWavTB"
      },
      "execution_count": null,
      "outputs": []
    }
  ]
}